{
 "cells": [
  {
   "cell_type": "markdown",
   "id": "52f6e63a-38df-4ca8-8f85-d8d1a389f96f",
   "metadata": {},
   "source": [
    "# Filter Table Rows by Attributes\n",
    "\n",
    "<div class=\"alert alert-block alert-info\">\n",
    "<b>Tip:</b> Find the full source code and run TagsHasher on Jina Hub: https://hub.jina.ai.</div>\n",
    "\n",
    "\n",
    "\n",
    "Big news, you can use Jina to filter table rows by their attributes! Such an amazing feature that only exists since... 47 years ago, aka SQL!\\\n",
    "Jina as a neural search framework surely won't implement a SQL database from scratch. The question here is: is it possible to leverage what we learned about neural search (embedding, indexing, nearest-neighbour matching) to enable similar feature like SQL, e.g. filter, select?\n",
    "\n",
    "Yes! Jina can do this. In this article, I will give you a walkthrough on how to filter the tabular data using Jina and without SQL (also no GPT-3). Let's call this mini-project the neuretro-SQL.\n",
    "\n",
    "## Feature hashing\n",
    "\n",
    "The first thing you want to learn is feature hashing.\n",
    "\n",
    "In general, feature hashing is a great way to embed **unbounded** number of features into fixed-size vectors. We will leverage the same idea here to embed the columns of the tabular data into fixed-size vectors.\n",
    "\n",
    "## Load CSV as DocumentArray\n",
    "\n",
    "Let's look at an example CSV file. Here I use a [film dataset](https://perso.telecom-paristech.fr/eagan/class/igr204/data/film.csv) that looks like the following:  \n",
    "\n",
    "![film dataset](film-dataset.png)\n",
    "\n",
    "Let's load the data from the web and put them into a DocumentArray:"
   ]
  },
  {
   "cell_type": "code",
   "execution_count": 1,
   "id": "da6e43bb-b10e-434d-ab0c-41481ff13c44",
   "metadata": {},
   "outputs": [],
   "source": [
    "import io\n",
    "\n",
    "from docarray import Document, DocumentArray\n",
    "\n",
    "# Load some online CSV file dataset\n",
    "src = Document(\n",
    "    uri='https://perso.telecom-paristech.fr/eagan/class/igr204/data/film.csv'\n",
    ").load_uri_to_text('iso8859')\n",
    "da = DocumentArray.from_csv(io.StringIO(src.text), dialect='auto')"
   ]
  },
  {
   "cell_type": "markdown",
   "id": "4272feda-6658-42a9-81e5-3ff550fb1913",
   "metadata": {},
   "source": [
    "Here we use Document API to download the data, convert it into the right charset, and load it via our CSV API as a DocumentArray.\n",
    "\n",
    "Looks like we got 1660 Documents in total, let's take one sample from it and take a look:"
   ]
  },
  {
   "cell_type": "code",
   "execution_count": null,
   "id": "fea808b1-b67f-4936-8327-1244b26ad1d4",
   "metadata": {},
   "outputs": [],
   "source": [
    "print(da[5].to_json())"
   ]
  },
  {
   "cell_type": "markdown",
   "id": "36eec8f9-1eb7-41e9-bacd-beb22a1b5342",
   "metadata": {},
   "source": [
    "It looks like this Document has two important non-empty attributes `id` and `tags`, and all values in `tags` correspond to the column value we have in the CSV data.\\\n",
    "Now our task is clear: we want to filter Documents from this DocumentArray according to their values in `.tags`, but no SQL, pure Jina, pure neural search.\n",
    "\n",
    "## Embed columns as vectors\n",
    "\n",
    "To embed columns into vectors, we first notice that each \"column-item\" in `.tags` is actually a `Tuple[str, Any]` pair. The first part, a string, represents the column title, e.g. \"Actor\", \"Actress\", \"Director\".\\\n",
    "To hash such values, you can use the following function:"
   ]
  },
  {
   "cell_type": "code",
   "execution_count": null,
   "id": "9a040269-78da-4362-848a-58666444a5eb",
   "metadata": {},
   "outputs": [],
   "source": [
    "import hashlib\n",
    "\n",
    "h = lambda x: int(hashlib.md5(str(x).encode('utf-8')).hexdigest(), base=16) % 256\n",
    "\n",
    "h('Actor')\n",
    "h('Director')\n",
    "h('Length')"
   ]
  },
  {
   "cell_type": "markdown",
   "id": "a2486137-916e-4c11-8eb3-c52af3ad05d4",
   "metadata": {},
   "source": [
    "Now that we have indices, the actual value on that index, namely the `Any` part of that `Tuple[str, Any]` pair needs some extra thought.\n",
    "\n",
    "First, some values are numbers like integers or floats, they are a good hash by themselves, so they do not need another hash function.\\\n",
    "Boolean values are the same, 0 and 1 are pretty representative. Strings can be handled in the same way above. What about lists, tuples and dicts?\\\n",
    "We can serialize them into JSON strings and then apply our string hash.\n",
    "\n",
    "The final hash function looks like the following:\n"
   ]
  },
  {
   "cell_type": "code",
   "execution_count": 5,
   "id": "9adc092e-a38e-4982-90e2-5aa569db9967",
   "metadata": {},
   "outputs": [],
   "source": [
    "def _any_hash(self, v):\n",
    "    try:\n",
    "        return int(v)  # parse int parameter\n",
    "    except ValueError:\n",
    "        try:\n",
    "            return float(v)  # parse float parameter\n",
    "        except ValueError:\n",
    "            if not v:\n",
    "                # ignore it when the parameter is empty\n",
    "                return 0\n",
    "            if isinstance(v, str):\n",
    "                v = v.strip()\n",
    "                if v.lower() in {'true', 'yes'}:  # parse boolean parameter\n",
    "                    return 1\n",
    "                if v.lower() in {'false', 'no'}:\n",
    "                    return 0\n",
    "            if isinstance(v, (tuple, dict, list)):\n",
    "                v = json.dumps(v, sort_keys=True)\n",
    "\n",
    "    return int(self.hash(str(v).encode('utf-8')).hexdigest(), base=16)"
   ]
  },
  {
   "cell_type": "markdown",
   "id": "cea325b5-07e7-4a65-b924-92b1f0db3ac3",
   "metadata": {},
   "source": [
    "If you apply this directly, you will get extremely big integers on the embedding values.\n",
    "So big that you don't even want to look at or store it (for numerical and stability reason).\n",
    "\n",
    "So we need to bound it.\\\n",
    "We can introdoce the variables `n_dim` and `max_val` to bound the dimension of our emeddings \"horizontally\" and \"vertically\", respectively:"
   ]
  },
  {
   "cell_type": "code",
   "execution_count": 6,
   "id": "13dea809-3fa0-4fcc-9432-f257bd0a3627",
   "metadata": {},
   "outputs": [],
   "source": [
    "n_dim: int = 256\n",
    "max_val: int = 65536"
   ]
  },
  {
   "cell_type": "markdown",
   "id": "ff1747c4-f41c-4aed-8ad0-15d166c8e3d7",
   "metadata": {},
   "source": [
    "Here we give a larger number to `max_val` then to `n_dim`.\\\n",
    "This is because the likelihood of a collision happens on vertical direction is in general much higher than on horizontal direction (otherwise, it implies there are more variants on the column name than on the column value, which then suggests the table-maker to simply \"transpose\" the whole table for better readability).\n",
    "\n",
    "The final embedding procedure is then very simple:"
   ]
  },
  {
   "cell_type": "code",
   "execution_count": 11,
   "id": "49538466-eb5c-47fb-afcb-446b3e1bbc63",
   "metadata": {},
   "outputs": [],
   "source": [
    "def encode(self, docs: DocumentArray, **kwargs):\n",
    "    for idx, doc in enumerate(docs):\n",
    "        if doc.tags:\n",
    "            idxs, data = [], []  # sparse\n",
    "            table = np.zeros(self.n_dim)  # dense\n",
    "            for k, v in doc.tags.items():\n",
    "                h = self._any_hash(k)\n",
    "                sign_h = np.sign(h)\n",
    "                col = h % self.n_dim\n",
    "                val = self._any_hash(v)\n",
    "                sign_v = np.sign(val)\n",
    "                val = val % self.max_val\n",
    "                idxs.append((0, col))\n",
    "                val = sign_h * sign_v * val\n",
    "                data.append(val)\n",
    "                table[col] += val\n",
    "\n",
    "            if self.sparse:\n",
    "                doc.embedding = csr_matrix(\n",
    "                    (data, zip(*idxs)), shape=(1, self.n_dim)\n",
    "                )\n",
    "            else:\n",
    "                doc.embedding = table"
   ]
  },
  {
   "cell_type": "markdown",
   "id": "67d1ff05-314e-4d59-9003-f7a60a853883",
   "metadata": {},
   "source": [
    "## Put it all together\n",
    "\n",
    "Now you can put your code together into one Executor:"
   ]
  },
  {
   "cell_type": "code",
   "execution_count": 17,
   "id": "f9d8f823-f51a-4312-bd51-a8aee5ff4caf",
   "metadata": {},
   "outputs": [],
   "source": [
    "from docarray import Document, DocumentArray\n",
    "from jina import Executor, requests\n",
    "import hashlib\n",
    "import numpy as np\n",
    "\n",
    "class TagsHasher(Executor):\n",
    "    def __init__(self, n_dim: int = 256, max_val: int = 65536, sparse: bool = False, **kwargs):\n",
    "        super().__init__(**kwargs)\n",
    "        self.n_dim = n_dim\n",
    "        self.max_val = max_val\n",
    "        self.hash = hashlib.md5\n",
    "        self.sparse = sparse\n",
    "        \n",
    "    def _any_hash(self, v):\n",
    "        try:\n",
    "            return int(v)  # parse int parameter\n",
    "        except ValueError:\n",
    "            try:\n",
    "                return float(v)  # parse float parameter\n",
    "            except ValueError:\n",
    "                if not v:\n",
    "                    # ignore it when the parameter is empty\n",
    "                    return 0\n",
    "                if isinstance(v, str):\n",
    "                    v = v.strip()\n",
    "                    if v.lower() in {'true', 'yes'}:  # parse boolean parameter\n",
    "                        return 1\n",
    "                    if v.lower() in {'false', 'no'}:\n",
    "                        return 0\n",
    "                if isinstance(v, (tuple, dict, list)):\n",
    "                    v = json.dumps(v, sort_keys=True)\n",
    "        return int(self.hash(str(v).encode('utf-8')).hexdigest(), base=16)\n",
    "        \n",
    "    @requests\n",
    "    def encode(self, docs: DocumentArray, **kwargs):\n",
    "        if self.sparse:\n",
    "            from scipy.sparse import csr_matrix\n",
    "            \n",
    "        for idx, doc in enumerate(docs):\n",
    "            if doc.tags:\n",
    "                idxs, data = [], []  # sparse\n",
    "                table = np.zeros(self.n_dim)  # dense\n",
    "                for k, v in doc.tags.items():\n",
    "                    h = self._any_hash(k)\n",
    "                    sign_h = np.sign(h)\n",
    "                    col = h % self.n_dim\n",
    "                    val = self._any_hash(v)\n",
    "                    sign_v = np.sign(val)\n",
    "                    val = val % self.max_val\n",
    "                    idxs.append((0, col))\n",
    "                    val = sign_h * sign_v * val\n",
    "                    data.append(val)\n",
    "                    table[col] += val\n",
    "\n",
    "                if self.sparse:\n",
    "                    doc.embedding = csr_matrix(\n",
    "                        (data, zip(*idxs)), shape=(1, self.n_dim)\n",
    "                    )\n",
    "                else:\n",
    "                    doc.embedding = table\n",
    "    "
   ]
  },
  {
   "cell_type": "markdown",
   "id": "5212f96f-b590-4f66-b646-0b73a65d1bb6",
   "metadata": {},
   "source": [
    "Let's encode our loaded DocumentArray:"
   ]
  },
  {
   "cell_type": "code",
   "execution_count": 18,
   "id": "ce38132a-f213-49e3-a577-0544813d29a3",
   "metadata": {},
   "outputs": [],
   "source": [
    "th = TagsHasher()\n",
    "th.encode(da)"
   ]
  },
  {
   "cell_type": "markdown",
   "id": "4ce69d4c-4fa7-405d-a5a8-90fe0aab0186",
   "metadata": {},
   "source": [
    "Now let's build some filters as Document:"
   ]
  },
  {
   "cell_type": "code",
   "execution_count": 19,
   "id": "73ce0f9f-c7be-48e6-8fb3-12ef67798933",
   "metadata": {},
   "outputs": [],
   "source": [
    "filters = [\n",
    "    {\"Subject\": \"Comedy\"},\n",
    "    {\"Year\": 1987},\n",
    "    {\"Subject\": \"Comedy\", \"Year\": 1987}\n",
    "]\n",
    "\n",
    "qa = DocumentArray([Document(tags=f) for f in filters])"
   ]
  },
  {
   "cell_type": "markdown",
   "id": "87df8278-d45b-463a-a67b-86a1e8d4176d",
   "metadata": {},
   "source": [
    "Encode the filter with `TagsHasher` to get the embeddings."
   ]
  },
  {
   "cell_type": "code",
   "execution_count": 20,
   "id": "784fe8ea-b4e3-466d-8e5d-cd0c27ce191e",
   "metadata": {},
   "outputs": [],
   "source": [
    "th.encode(qa)"
   ]
  },
  {
   "cell_type": "markdown",
   "id": "549113f7-154d-400e-afff-1fe94e307ad6",
   "metadata": {},
   "source": [
    "Now that we have embeddings for both indexed docs `da` (i.e. our film CSV table), and the query docs `qa` (our filters), we can use `.match` function to find nearest neighbours.\n"
   ]
  },
  {
   "cell_type": "code",
   "execution_count": 21,
   "id": "ba4149cd-252e-4176-a4ec-a479391b6eaf",
   "metadata": {},
   "outputs": [],
   "source": [
    "qa.match(da, limit=5, exclude_self=True, metric='jaccard', use_scipy=True)"
   ]
  },
  {
   "cell_type": "markdown",
   "id": "ffb57775-8c90-4781-8190-a81055aa4fb6",
   "metadata": {},
   "source": [
    "Note that here I use Jaccard distance instead of the  cosine distance. This is because the closeness of the value on each feature is meaningless, as the value is the result of a hash function. Whereas in `FeatureHashser`'s example, the value represents the term frequency of a word, so it was meaningful there. This needs to be kept in mind when using `TagsHasher`.\n",
    "\n",
    "Finally, let's see some results. Here I only print top-5 matches."
   ]
  },
  {
   "cell_type": "code",
   "execution_count": null,
   "id": "cf6edde5-a2ef-424e-8ae4-e0c96f25cac4",
   "metadata": {},
   "outputs": [],
   "source": [
    "for d in qa:\n",
    "    print('my filter is:', d.tags)\n",
    "    for m in d.matches:\n",
    "        print(m.tags)"
   ]
  }
 ],
 "metadata": {
  "kernelspec": {
   "display_name": "Python 3 (ipykernel)",
   "language": "python",
   "name": "python3"
  },
  "language_info": {
   "codemirror_mode": {
    "name": "ipython",
    "version": 3
   },
   "file_extension": ".py",
   "mimetype": "text/x-python",
   "name": "python",
   "nbconvert_exporter": "python",
   "pygments_lexer": "ipython3",
   "version": "3.8.10"
  }
 },
 "nbformat": 4,
 "nbformat_minor": 5
}
