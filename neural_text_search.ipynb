{
  "nbformat": 4,
  "nbformat_minor": 0,
  "metadata": {
    "colab": {
      "name": "neural_text_search.ipynb",
      "provenance": []
    },
    "kernelspec": {
      "name": "python3",
      "display_name": "Python 3"
    },
    "language_info": {
      "name": "python"
    }
  },
  "cells": [
    {
      "cell_type": "markdown",
      "source": [
        "# ⏰ Install & Import Dependencies"
      ],
      "metadata": {
        "id": "VZGABxkAge3q"
      }
    },
    {
      "cell_type": "code",
      "execution_count": 2,
      "metadata": {
        "colab": {
          "base_uri": "https://localhost:8080/"
        },
        "id": "lkyGStg_gZKY",
        "outputId": "31461902-f687-49db-efdf-265b851df7a7"
      },
      "outputs": [
        {
          "output_type": "stream",
          "name": "stdout",
          "text": [
            "Collecting docarray\n",
            "  Downloading docarray-0.13.10.tar.gz (627 kB)\n",
            "\u001b[?25l\r\u001b[K     |▌                               | 10 kB 23.1 MB/s eta 0:00:01\r\u001b[K     |█                               | 20 kB 29.1 MB/s eta 0:00:01\r\u001b[K     |█▋                              | 30 kB 22.0 MB/s eta 0:00:01\r\u001b[K     |██                              | 40 kB 17.2 MB/s eta 0:00:01\r\u001b[K     |██▋                             | 51 kB 8.1 MB/s eta 0:00:01\r\u001b[K     |███▏                            | 61 kB 9.5 MB/s eta 0:00:01\r\u001b[K     |███▋                            | 71 kB 9.0 MB/s eta 0:00:01\r\u001b[K     |████▏                           | 81 kB 9.3 MB/s eta 0:00:01\r\u001b[K     |████▊                           | 92 kB 10.3 MB/s eta 0:00:01\r\u001b[K     |█████▎                          | 102 kB 8.6 MB/s eta 0:00:01\r\u001b[K     |█████▊                          | 112 kB 8.6 MB/s eta 0:00:01\r\u001b[K     |██████▎                         | 122 kB 8.6 MB/s eta 0:00:01\r\u001b[K     |██████▉                         | 133 kB 8.6 MB/s eta 0:00:01\r\u001b[K     |███████▎                        | 143 kB 8.6 MB/s eta 0:00:01\r\u001b[K     |███████▉                        | 153 kB 8.6 MB/s eta 0:00:01\r\u001b[K     |████████▍                       | 163 kB 8.6 MB/s eta 0:00:01\r\u001b[K     |████████▉                       | 174 kB 8.6 MB/s eta 0:00:01\r\u001b[K     |█████████▍                      | 184 kB 8.6 MB/s eta 0:00:01\r\u001b[K     |██████████                      | 194 kB 8.6 MB/s eta 0:00:01\r\u001b[K     |██████████▌                     | 204 kB 8.6 MB/s eta 0:00:01\r\u001b[K     |███████████                     | 215 kB 8.6 MB/s eta 0:00:01\r\u001b[K     |███████████▌                    | 225 kB 8.6 MB/s eta 0:00:01\r\u001b[K     |████████████                    | 235 kB 8.6 MB/s eta 0:00:01\r\u001b[K     |████████████▌                   | 245 kB 8.6 MB/s eta 0:00:01\r\u001b[K     |█████████████                   | 256 kB 8.6 MB/s eta 0:00:01\r\u001b[K     |█████████████▋                  | 266 kB 8.6 MB/s eta 0:00:01\r\u001b[K     |██████████████                  | 276 kB 8.6 MB/s eta 0:00:01\r\u001b[K     |██████████████▋                 | 286 kB 8.6 MB/s eta 0:00:01\r\u001b[K     |███████████████▏                | 296 kB 8.6 MB/s eta 0:00:01\r\u001b[K     |███████████████▊                | 307 kB 8.6 MB/s eta 0:00:01\r\u001b[K     |████████████████▏               | 317 kB 8.6 MB/s eta 0:00:01\r\u001b[K     |████████████████▊               | 327 kB 8.6 MB/s eta 0:00:01\r\u001b[K     |█████████████████▎              | 337 kB 8.6 MB/s eta 0:00:01\r\u001b[K     |█████████████████▊              | 348 kB 8.6 MB/s eta 0:00:01\r\u001b[K     |██████████████████▎             | 358 kB 8.6 MB/s eta 0:00:01\r\u001b[K     |██████████████████▉             | 368 kB 8.6 MB/s eta 0:00:01\r\u001b[K     |███████████████████▎            | 378 kB 8.6 MB/s eta 0:00:01\r\u001b[K     |███████████████████▉            | 389 kB 8.6 MB/s eta 0:00:01\r\u001b[K     |████████████████████▍           | 399 kB 8.6 MB/s eta 0:00:01\r\u001b[K     |█████████████████████           | 409 kB 8.6 MB/s eta 0:00:01\r\u001b[K     |█████████████████████▍          | 419 kB 8.6 MB/s eta 0:00:01\r\u001b[K     |██████████████████████          | 430 kB 8.6 MB/s eta 0:00:01\r\u001b[K     |██████████████████████▌         | 440 kB 8.6 MB/s eta 0:00:01\r\u001b[K     |███████████████████████         | 450 kB 8.6 MB/s eta 0:00:01\r\u001b[K     |███████████████████████▌        | 460 kB 8.6 MB/s eta 0:00:01\r\u001b[K     |████████████████████████        | 471 kB 8.6 MB/s eta 0:00:01\r\u001b[K     |████████████████████████▌       | 481 kB 8.6 MB/s eta 0:00:01\r\u001b[K     |█████████████████████████       | 491 kB 8.6 MB/s eta 0:00:01\r\u001b[K     |█████████████████████████▋      | 501 kB 8.6 MB/s eta 0:00:01\r\u001b[K     |██████████████████████████▏     | 512 kB 8.6 MB/s eta 0:00:01\r\u001b[K     |██████████████████████████▋     | 522 kB 8.6 MB/s eta 0:00:01\r\u001b[K     |███████████████████████████▏    | 532 kB 8.6 MB/s eta 0:00:01\r\u001b[K     |███████████████████████████▊    | 542 kB 8.6 MB/s eta 0:00:01\r\u001b[K     |████████████████████████████▏   | 552 kB 8.6 MB/s eta 0:00:01\r\u001b[K     |████████████████████████████▊   | 563 kB 8.6 MB/s eta 0:00:01\r\u001b[K     |█████████████████████████████▎  | 573 kB 8.6 MB/s eta 0:00:01\r\u001b[K     |█████████████████████████████▊  | 583 kB 8.6 MB/s eta 0:00:01\r\u001b[K     |██████████████████████████████▎ | 593 kB 8.6 MB/s eta 0:00:01\r\u001b[K     |██████████████████████████████▉ | 604 kB 8.6 MB/s eta 0:00:01\r\u001b[K     |███████████████████████████████▍| 614 kB 8.6 MB/s eta 0:00:01\r\u001b[K     |███████████████████████████████▉| 624 kB 8.6 MB/s eta 0:00:01\r\u001b[K     |████████████████████████████████| 627 kB 8.6 MB/s \n",
            "\u001b[?25hRequirement already satisfied: numpy in /usr/local/lib/python3.7/dist-packages (from docarray) (1.21.6)\n",
            "Collecting rich>=12.0.0\n",
            "  Downloading rich-12.3.0-py3-none-any.whl (232 kB)\n",
            "\u001b[K     |████████████████████████████████| 232 kB 56.1 MB/s \n",
            "\u001b[?25hRequirement already satisfied: pygments<3.0.0,>=2.6.0 in /usr/local/lib/python3.7/dist-packages (from rich>=12.0.0->docarray) (2.6.1)\n",
            "Collecting commonmark<0.10.0,>=0.9.0\n",
            "  Downloading commonmark-0.9.1-py2.py3-none-any.whl (51 kB)\n",
            "\u001b[K     |████████████████████████████████| 51 kB 7.6 MB/s \n",
            "\u001b[?25hRequirement already satisfied: typing-extensions<5.0,>=4.0.0 in /usr/local/lib/python3.7/dist-packages (from rich>=12.0.0->docarray) (4.2.0)\n",
            "Building wheels for collected packages: docarray\n",
            "  Building wheel for docarray (setup.py) ... \u001b[?25l\u001b[?25hdone\n",
            "  Created wheel for docarray: filename=docarray-0.13.10-py3-none-any.whl size=672496 sha256=39445c02da7b54b7af9c9f9baa5952d76f55a93b6ad64c8a508a385ba308e409\n",
            "  Stored in directory: /root/.cache/pip/wheels/b0/e5/bd/4c8ebbf91297e00054d52d5ab363c1351fe03b960d95cbc5a0\n",
            "Successfully built docarray\n",
            "Installing collected packages: commonmark, rich, docarray\n",
            "Successfully installed commonmark-0.9.1 docarray-0.13.10 rich-12.3.0\n"
          ]
        }
      ],
      "source": [
        "!pip install docarray"
      ]
    },
    {
      "cell_type": "code",
      "source": [
        "# Importing necessary dependencies\n",
        "from docarray import Document, DocumentArray"
      ],
      "metadata": {
        "id": "eRDNOSTFg_ps"
      },
      "execution_count": 5,
      "outputs": []
    },
    {
      "cell_type": "markdown",
      "source": [
        "# 🪡 Data Pre-processing"
      ],
      "metadata": {
        "id": "GqA2yqFIh4rv"
      }
    },
    {
      "cell_type": "code",
      "source": [
        "# break large text into smaller chunks\n",
        "docs = DocumentArray(Document(text = s.strip()) for s in doc.text.split('\\n') if s.strip())"
      ],
      "metadata": {
        "id": "JWQKqkrDhm4L"
      },
      "execution_count": 6,
      "outputs": []
    },
    {
      "cell_type": "markdown",
      "source": [
        "# 🏗 Generate Vector Embeddings \n",
        "\n",
        "We use **feature hashing** to generate the vecor embeddings as its the faster and space-efficient way. It works by taking the features and applying a hash function that can hash the values and return them as indices."
      ],
      "metadata": {
        "id": "_TJIHs6eiLrw"
      }
    },
    {
      "cell_type": "code",
      "source": [
        "# apply feature hashing to embed the DocumentArray\n",
        "docs.apply(lambda doc: doc.embed_feature_hashing())"
      ],
      "metadata": {
        "colab": {
          "base_uri": "https://localhost:8080/",
          "height": 297
        },
        "id": "4glBnUHBiAwp",
        "outputId": "27c6bb48-ba9b-42af-8aab-47d347cae3d2"
      },
      "execution_count": 7,
      "outputs": [
        {
          "output_type": "display_data",
          "data": {
            "text/plain": [
              "\n"
            ],
            "text/html": [
              "<pre style=\"white-space:pre;overflow-x:auto;line-height:normal;font-family:Menlo,'DejaVu Sans Mono',consolas,'Courier New',monospace\">\n",
              "</pre>\n"
            ]
          },
          "metadata": {}
        },
        {
          "output_type": "display_data",
          "data": {
            "text/plain": [
              "╭────────────────── Documents Summary ───────────────────╮\n",
              "│                                                        │\n",
              "│   Length                 \u001b[1;36m12153\u001b[0m                         │\n",
              "│   Homogenous Documents   \u001b[3;92mTrue\u001b[0m                          │\n",
              "│   Common Attributes      \u001b[1m(\u001b[0m\u001b[32m'id'\u001b[0m, \u001b[32m'text'\u001b[0m, \u001b[32m'embedding'\u001b[0m\u001b[1m)\u001b[0m   │\n",
              "│   Multimodal dataclass   \u001b[3;91mFalse\u001b[0m                         │\n",
              "│                                                        │\n",
              "╰────────────────────────────────────────────────────────╯\n",
              "╭────────────────────── Attributes Summary ───────────────────────╮\n",
              "│                                                                 │\n",
              "│  \u001b[1m \u001b[0m\u001b[1mAttribute\u001b[0m\u001b[1m \u001b[0m \u001b[1m \u001b[0m\u001b[1mData type   \u001b[0m\u001b[1m \u001b[0m \u001b[1m \u001b[0m\u001b[1m#Unique values\u001b[0m\u001b[1m \u001b[0m \u001b[1m \u001b[0m\u001b[1mHas empty value\u001b[0m\u001b[1m \u001b[0m  │\n",
              "│  ─────────────────────────────────────────────────────────────  │\n",
              "│   embedding   \u001b[1m(\u001b[0m\u001b[32m'ndarray'\u001b[0m,\u001b[1m)\u001b[0m   \u001b[1;36m12153\u001b[0m            \u001b[3;91mFalse\u001b[0m             │\n",
              "│   id          \u001b[1m(\u001b[0m\u001b[32m'str'\u001b[0m,\u001b[1m)\u001b[0m       \u001b[1;36m12153\u001b[0m            \u001b[3;91mFalse\u001b[0m             │\n",
              "│   text        \u001b[1m(\u001b[0m\u001b[32m'str'\u001b[0m,\u001b[1m)\u001b[0m       \u001b[1;36m12062\u001b[0m            \u001b[3;91mFalse\u001b[0m             │\n",
              "│                                                                 │\n",
              "╰─────────────────────────────────────────────────────────────────╯\n"
            ],
            "text/html": [
              "<pre style=\"white-space:pre;overflow-x:auto;line-height:normal;font-family:Menlo,'DejaVu Sans Mono',consolas,'Courier New',monospace\">╭────────────────── Documents Summary ───────────────────╮\n",
              "│                                                        │\n",
              "│   Length                 <span style=\"color: #008080; text-decoration-color: #008080; font-weight: bold\">12153</span>                         │\n",
              "│   Homogenous Documents   <span style=\"color: #00ff00; text-decoration-color: #00ff00; font-style: italic\">True</span>                          │\n",
              "│   Common Attributes      <span style=\"font-weight: bold\">(</span><span style=\"color: #008000; text-decoration-color: #008000\">'id'</span>, <span style=\"color: #008000; text-decoration-color: #008000\">'text'</span>, <span style=\"color: #008000; text-decoration-color: #008000\">'embedding'</span><span style=\"font-weight: bold\">)</span>   │\n",
              "│   Multimodal dataclass   <span style=\"color: #ff0000; text-decoration-color: #ff0000; font-style: italic\">False</span>                         │\n",
              "│                                                        │\n",
              "╰────────────────────────────────────────────────────────╯\n",
              "╭────────────────────── Attributes Summary ───────────────────────╮\n",
              "│                                                                 │\n",
              "│  <span style=\"font-weight: bold\"> Attribute </span> <span style=\"font-weight: bold\"> Data type    </span> <span style=\"font-weight: bold\"> #Unique values </span> <span style=\"font-weight: bold\"> Has empty value </span>  │\n",
              "│  ─────────────────────────────────────────────────────────────  │\n",
              "│   embedding   <span style=\"font-weight: bold\">(</span><span style=\"color: #008000; text-decoration-color: #008000\">'ndarray'</span>,<span style=\"font-weight: bold\">)</span>   <span style=\"color: #008080; text-decoration-color: #008080; font-weight: bold\">12153</span>            <span style=\"color: #ff0000; text-decoration-color: #ff0000; font-style: italic\">False</span>             │\n",
              "│   id          <span style=\"font-weight: bold\">(</span><span style=\"color: #008000; text-decoration-color: #008000\">'str'</span>,<span style=\"font-weight: bold\">)</span>       <span style=\"color: #008080; text-decoration-color: #008080; font-weight: bold\">12153</span>            <span style=\"color: #ff0000; text-decoration-color: #ff0000; font-style: italic\">False</span>             │\n",
              "│   text        <span style=\"font-weight: bold\">(</span><span style=\"color: #008000; text-decoration-color: #008000\">'str'</span>,<span style=\"font-weight: bold\">)</span>       <span style=\"color: #008080; text-decoration-color: #008080; font-weight: bold\">12062</span>            <span style=\"color: #ff0000; text-decoration-color: #ff0000; font-style: italic\">False</span>             │\n",
              "│                                                                 │\n",
              "╰─────────────────────────────────────────────────────────────────╯\n",
              "</pre>\n"
            ]
          },
          "metadata": {}
        }
      ]
    },
    {
      "cell_type": "markdown",
      "source": [
        "# 🪄 Querying the Data \n",
        "\n",
        "Let's take the query sentence \"**she entered the room**\" from Pride and Prejudice and see what response we get."
      ],
      "metadata": {
        "id": "JdV6P4vQiciB"
      }
    },
    {
      "cell_type": "code",
      "source": [
        "# query sentence \n",
        "query = (Document(text=\"she entered the room\").embed_feature_hashing().match(docs, limit=3, exclude_self=True, \n",
        "metric=\"jaccard\", use_scipy=True))"
      ],
      "metadata": {
        "id": "hJIctI21ibak"
      },
      "execution_count": 10,
      "outputs": []
    },
    {
      "cell_type": "code",
      "source": [
        "# fetch the output\n",
        "output = query.matches[:, ('text', 'scores__jaccard')][0]"
      ],
      "metadata": {
        "id": "5IZXv3rRijY6"
      },
      "execution_count": 28,
      "outputs": []
    },
    {
      "cell_type": "code",
      "source": [
        "# print the results\n",
        "for i in (output):\n",
        "  print(i)"
      ],
      "metadata": {
        "colab": {
          "base_uri": "https://localhost:8080/"
        },
        "id": "iF7nVdn0kChe",
        "outputId": "a56db015-520f-4321-c496-cedae56d075d"
      },
      "execution_count": 29,
      "outputs": [
        {
          "output_type": "stream",
          "name": "stdout",
          "text": [
            "staircase, than she entered the breakfast-room, and congratulated\n",
            "of the room.\n",
            "She entered the room with an air more than usually ungracious,\n"
          ]
        }
      ]
    },
    {
      "cell_type": "markdown",
      "source": [
        "# Next Steps\n",
        "\n",
        "### Building into a real world application\n",
        "\n",
        "In a future notebook we'll use **[Jina's neural search framework](https://github.com/jina-ai/jina/)** and **[Jina Hub Executors](https://hub.jina.ai)** to build a [real world fashion search engine](http://examples.jina.ai/fashion) with minimal lines of code.\n",
        "\n",
        "![](https://github.com/alexcg1/jina-multimodal-fashion-search/raw/main/demo.gif)"
      ],
      "metadata": {
        "id": "IGSPWBYVllzM"
      }
    }
  ]
}